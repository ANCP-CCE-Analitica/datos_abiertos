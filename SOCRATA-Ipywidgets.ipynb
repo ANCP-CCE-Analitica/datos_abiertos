{
 "cells": [
  {
   "cell_type": "markdown",
   "metadata": {},
   "source": [
    "<div style=\"\n",
    "  padding: 30px;\n",
    "  text-align: center;\" class='row'>\n",
    "<div style=\"float:left;width: 15%;\" class='column'><a href=\"https://www.colombiacompra.gov.co\"><img alt=\"Logo Colombia Compra Eficiente\" id=\"logocce\" src=\"https://www.colombiacompra.gov.co/sites/cce_public/files/Images/logocce.png\" style=\"height: 45px;\"></a></div>\n",
    "    <div style=\"float:left;width: 70%;\" class='column'>\n",
    "        <h1>Carga de bases datos abiertos\n",
    "        </h1> \n",
    "    </div>\n",
    "<div style=\"float:left;width: 15%;\" class='column'><a href=\"https://www.dnp.gov.co/\" target=\"_blank\"><img class=\"float-right\" id=\"logodnp\" src=\"https://www.colombiacompra.gov.co/sites/cce_public/files/logo_dnp.jpg\" style=\"width: 200px;\"></a></div>\n",
    "</div>"
   ]
  },
  {
   "cell_type": "markdown",
   "metadata": {},
   "source": [
    "## 1. IDENTIFICACIÓN DEL INSUMO\n",
    "\n",
    "|||\n",
    "|:--|:--|\n",
    "|**Fecha**|Mayo 2022|\n",
    "|**Ciudad**|Bogotá D.C.|\n",
    "|**Esquema de presentación del insumo**|Cuaderno Jupyter|\n",
    "|**Título del insumo**| **Consideraciones para la consulta en datos abiertos**|\n",
    "|**Descripción y alcance**|Script para la consulta de bases utilizando datos abiertos.|\n",
    "|**Periodicidad del insumo**|único|\n",
    "|**Solicitante**|No aplica|\n",
    "|**Versión del insumo**|Final|"
   ]
  },
  {
   "cell_type": "markdown",
   "metadata": {},
   "source": [
    "## 2. DESTINO Y AUTORES DEL INFORME / INSUMO\n",
    "\n",
    "|||\n",
    "|:--|:--|\n",
    "|**Destinatario**|<table align='left'><tr><td>*Nombre:*</td> <td>Equipo analítica EMAE</td></tr> <tr><td>*Cargo:*</td> <td>NA</td></tr>  <tr><td>*Área:*</td> <td>Subdirección de estudios de Mercado y Abastecimiento Estratégico – EMAE</td></tr></table>|\n",
    "|**Autores**|<table><tr><td>*Nombre:*</td> <td>Carlos Isaac Zainea Maya</td></tr> <tr><td>*Cargo:*</td> <td>Contratista</td></tr>  <tr><td>*Área:*</td> <td>Subdirección de estudios de Mercado y Abastecimiento Estratégico – EMAE.</td></tr></table>|\n",
    "|**Aprobación**|<table><tr><td>*Nombre:*</td> <td>Catalina Pimienta</td></tr> <tr><td>*Cargo:*</td> <td>Subdirectora Estudios de Mercado y Abastecimiento Estratégico</td></tr>  <tr><td>*Área:*</td> <td>Subdirección de estudios de Mercado y Abastecimiento Estratégico – EMAE.</td></tr></table>|"
   ]
  },
  {
   "cell_type": "markdown",
   "metadata": {},
   "source": [
    "# Reportes interactivos\n",
    "\n",
    "En este apartado crearemos un reporte interactivo usando la herramienta [ipywidgets](https://ipywidgets.readthedocs.io/en/stable/), en conjunto con [Google Colaboratory](https://colab.research.google.com/) el usuario final puede capacitar a personal no tecnico para hacer consultas simples de datos abiertos.\n",
    "\n",
    "Iniciemos cargando paquetes:"
   ]
  },
  {
   "cell_type": "code",
   "execution_count": 1,
   "metadata": {},
   "outputs": [
    {
     "name": "stderr",
     "output_type": "stream",
     "text": [
      "WARNING:root:Requests made without an app_token will be subject to strict throttling limits.\n"
     ]
    }
   ],
   "source": [
    "import pandas as pd\n",
    "from sodapy import Socrata\n",
    "import datetime\n",
    "\n",
    "client = Socrata('www.datos.gov.co',None)"
   ]
  },
  {
   "cell_type": "markdown",
   "metadata": {},
   "source": [
    "Como vamos a utilizar diferentes fuentes de datos, los siguientes diccionarios de Python, codifican cada base con su respectivo identificador del portal de datos abiertos. Observe que la sintáxis aquí utilizada solo esta mostrando el identificador y relaciona cada identificador con el nombre correspondiente. Si se pretende generar una herramienta más grande deben incluirse diccionarios o rutinas de integración de información. "
   ]
  },
  {
   "cell_type": "code",
   "execution_count": 2,
   "metadata": {},
   "outputs": [],
   "source": [
    "variables_dict = {\"f789-7hwg\": [\"uid\",\"nom_razon_social_contratista\",\"identificacion_del_contratista\",\"nombre_del_represen_legal\",\"identific_representante_legal\",\"fecha_de_firma_del_contrato\"],\n",
    "                 \"jbjy-vk9h\": [\"id_contrato\" ,\"proveedor_adjudicado\",\"documento_proveedor\",\"nombre_representante_legal\",\"identificaci_n_representante_legal\",\"fecha_de_firma\"],\n",
    "                 \"rgxm-mmea\": [\"identificador_de_la_orden \",\"proveedor\",\"nit_proveedor\",\"fecha\"]}\n",
    "Identificadores={\"SECOP I\":\"f789-7hwg\",\"SECOP II\":\"jbjy-vk9h\",\"TVEC\":\"rgxm-mmea\"}\n",
    "\n",
    "Fechas={\"f789-7hwg\":\"fecha_de_firma_del_contrato\",\"jbjy-vk9h\": \"fecha_de_firma\",\"rgxm-mmea\":\"fecha\"}\n",
    "Rep={\"f789-7hwg\":\"nombre_del_represen_legal\",\"jbjy-vk9h\": \"nombre_representante_legal\",\"rgxm-mmea\":\"proveedor\"}\n"
   ]
  },
  {
   "cell_type": "markdown",
   "metadata": {},
   "source": [
    "Las funciones de ipywidgets que utilizaremos son:\n",
    "\n",
    "`interact`: Genera un modulo interactivo según una función previamente definida.\n",
    "\n",
    "`interactive`: Genera un modulo interactivo según una función previamente definida y permite guardarlo en una variable.\n",
    "\n",
    "`DatePicker`: Un widget para escoger fechas.\n"
   ]
  },
  {
   "cell_type": "code",
   "execution_count": 3,
   "metadata": {},
   "outputs": [],
   "source": [
    "from ipywidgets import interact, interactive\n",
    "import ipywidgets as widgets"
   ]
  },
  {
   "cell_type": "code",
   "execution_count": 4,
   "metadata": {},
   "outputs": [],
   "source": [
    "Fechainicio = widgets.DatePicker(\n",
    "    description='Fecha Inicio',\n",
    "    disabled=False,\n",
    "    value = datetime.date(2022, 5, 1)\n",
    ")\n",
    "Fechafin = widgets.DatePicker(\n",
    "    description='Fecha Inicio',\n",
    "    disabled=False,\n",
    "    value = datetime.date(2022, 6, 1)\n",
    ")"
   ]
  },
  {
   "cell_type": "markdown",
   "metadata": {},
   "source": [
    "La función a continuación permite hacer una consulta simple teniendo en cuenta las variables que se guardaron en el diccionario de variables `variables_dict`"
   ]
  },
  {
   "cell_type": "code",
   "execution_count": 5,
   "metadata": {},
   "outputs": [
    {
     "data": {
      "text/plain": [
       "{'f789-7hwg': ['uid',\n",
       "  'nom_razon_social_contratista',\n",
       "  'identificacion_del_contratista',\n",
       "  'nombre_del_represen_legal',\n",
       "  'identific_representante_legal',\n",
       "  'fecha_de_firma_del_contrato'],\n",
       " 'jbjy-vk9h': ['id_contrato',\n",
       "  'proveedor_adjudicado',\n",
       "  'documento_proveedor',\n",
       "  'nombre_representante_legal',\n",
       "  'identificaci_n_representante_legal',\n",
       "  'fecha_de_firma'],\n",
       " 'rgxm-mmea': ['identificador_de_la_orden ',\n",
       "  'proveedor',\n",
       "  'nit_proveedor',\n",
       "  'fecha']}"
      ]
     },
     "execution_count": 5,
     "metadata": {},
     "output_type": "execute_result"
    }
   ],
   "source": [
    "variables_dict"
   ]
  },
  {
   "cell_type": "markdown",
   "metadata": {},
   "source": [
    "Al final, usando interact e igualando los argumentos a los widgets de fecha previamente creados, podemos generar una herramienta interactiva que consulta estas variables en un intervalo de fechas dado. Adicionalmente, dejamos la variable texto que permite que podamos filtrar la consulta con el nombre del representante legal del proveedor:"
   ]
  },
  {
   "cell_type": "code",
   "execution_count": 6,
   "metadata": {},
   "outputs": [
    {
     "data": {
      "application/vnd.jupyter.widget-view+json": {
       "model_id": "c605baa17c61410fba5a594c3502e754",
       "version_major": 2,
       "version_minor": 0
      },
      "text/plain": [
       "interactive(children=(Dropdown(description='data_identifier', options={'SECOP I': 'f789-7hwg', 'SECOP II': 'jb…"
      ]
     },
     "metadata": {},
     "output_type": "display_data"
    },
    {
     "data": {
      "text/plain": [
       "<function __main__.consultasimple(data_identifier, fechaini, fechafin, Representante_legal)>"
      ]
     },
     "execution_count": 6,
     "metadata": {},
     "output_type": "execute_result"
    }
   ],
   "source": [
    "def consultasimple(data_identifier,fechaini,fechafin,Representante_legal):   \n",
    "    fechaini=fechaini.strftime(\"%Y-%m-%d\")\n",
    "    fechafin=fechafin.strftime(\"%Y-%m-%d\")\n",
    "    socrata_dataset_identifier = data_identifier\n",
    "    lista_var=variables_dict[data_identifier]\n",
    "    Query = \"\"\"\n",
    "    select \"\"\"+\", \".join(lista_var)+ \"\"\"\n",
    "    where\n",
    "       \"\"\"+Fechas[data_identifier]+'>=\"' + fechaini+'\"'+\"\"\" and\n",
    "       \"\"\"+Fechas[data_identifier]+'<=\"' + fechafin+'\"'+\"\"\" and\n",
    "       LOWER(\"\"\" +Rep[data_identifier]+\") like '%\" +Representante_legal.lower()+\"%'\"+\"\"\"\n",
    "    \"\"\"+\"\"\"    \n",
    "    limit\n",
    "    1000\n",
    "    \"\"\"\n",
    "\n",
    "    contratos_2022 = client.get(socrata_dataset_identifier, content_type=\"json\", query=Query)\n",
    "\n",
    "    secopII_2022_DF = pd.DataFrame(pd.DataFrame.from_dict(contratos_2022))\n",
    "    return secopII_2022_DF\n",
    "\n",
    "interact(consultasimple, data_identifier=Identificadores,fechaini=Fechainicio,fechafin=Fechafin,Representante_legal='Rep_legal')"
   ]
  },
  {
   "cell_type": "markdown",
   "metadata": {},
   "source": [
    "La anterior es una herramienta simple que permite identificar los contratos suscritos o por suscribir a partir del nombre del representante legal de un proveedor dado."
   ]
  },
  {
   "cell_type": "markdown",
   "metadata": {},
   "source": [
    "## Aprobación\n",
    "|||\n",
    "|--|--|\n",
    "|**Nombre**|Wilson Camilo Sanchez|\n",
    "|**Cargo**|Gestor T11|\n",
    "|**Área**|Subdirección EMAE|"
   ]
  },
  {
   "cell_type": "markdown",
   "metadata": {},
   "source": [
    "![version](images/version.png)"
   ]
  }
 ],
 "metadata": {
  "kernelspec": {
   "display_name": "Python 3 (ipykernel)",
   "language": "python",
   "name": "python3"
  },
  "language_info": {
   "codemirror_mode": {
    "name": "ipython",
    "version": 3
   },
   "file_extension": ".py",
   "mimetype": "text/x-python",
   "name": "python",
   "nbconvert_exporter": "python",
   "pygments_lexer": "ipython3",
   "version": "3.9.12"
  }
 },
 "nbformat": 4,
 "nbformat_minor": 4
}
