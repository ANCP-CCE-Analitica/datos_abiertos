{
 "cells": [
  {
   "cell_type": "markdown",
   "metadata": {},
   "source": [
    "<div style=\"\n",
    "  padding: 30px;\n",
    "  text-align: center;\" class='row'>\n",
    "<div style=\"float:left;width: 15%;\" class='column'><a href=\"https://www.colombiacompra.gov.co\"><img alt=\"Logo Colombia Compra Eficiente\" id=\"logocce\" src=\"https://www.colombiacompra.gov.co/sites/cce_public/files/Images/logocce.png\" style=\"height: 45px;\"></a></div>\n",
    "    <div style=\"float:left;width: 70%;\" class='column'>\n",
    "        <h1>Explorar datos de contratación en datos abiertos - SECOP II\n",
    "        </h1> \n",
    "    </div>\n",
    "<div style=\"float:left;width: 15%;\" class='column'><a href=\"https://www.dnp.gov.co/\" target=\"_blank\"><img class=\"float-right\" id=\"logodnp\" src=\"https://www.colombiacompra.gov.co/sites/cce_public/files/logo_dnp.jpg\" style=\"width: 200px;\"></a></div>\n",
    "</div>"
   ]
  },
  {
   "cell_type": "markdown",
   "metadata": {},
   "source": [
    "## 1. IDENTIFICACIÓN DEL INSUMO\n",
    "\n",
    "|||\n",
    "|:--|:--|\n",
    "|**Fecha**|Mayo 2022|\n",
    "|**Ciudad**|Bogotá D.C.|\n",
    "|**Esquema de presentación del insumo**|Cuaderno Jupyter|\n",
    "|**Título del insumo**| **Consideraciones para la consulta en datos abiertos**|\n",
    "|**Descripción y alcance**|Script para la consulta de bases utilizando datos abiertos.|\n",
    "|**Periodicidad del insumo**|único|\n",
    "|**Solicitante**|No aplica|\n",
    "|**Versión del insumo**|Final|"
   ]
  },
  {
   "cell_type": "markdown",
   "metadata": {},
   "source": [
    "## 2. DESTINO Y AUTORES DEL INFORME / INSUMO\n",
    "\n",
    "|||\n",
    "|:--|:--|\n",
    "|**Destinatario**|<table align='left'><tr><td>*Nombre:*</td> <td>Equipo analítica EMAE</td></tr> <tr><td>*Cargo:*</td> <td>NA</td></tr>  <tr><td>*Área:*</td> <td>Subdirección de estudios de Mercado y Abastecimiento Estratégico – EMAE</td></tr></table>|\n",
    "|**Autores**|<table><tr><td>*Nombre:*</td> <td>Carlos Isaac Zainea Maya</td></tr> <tr><td>*Cargo:*</td> <td>Contratista</td></tr>  <tr><td>*Área:*</td> <td>Subdirección de estudios de Mercado y Abastecimiento Estratégico – EMAE.</td></tr></table>|\n",
    "|**Aprobación**|<table><tr><td>*Nombre:*</td> <td>Catalina Pimienta</td></tr> <tr><td>*Cargo:*</td> <td>Subdirectora Estudios de Mercado y Abastecimiento Estratégico</td></tr>  <tr><td>*Área:*</td> <td>Subdirección de estudios de Mercado y Abastecimiento Estratégico – EMAE.</td></tr></table>|"
   ]
  },
  {
   "cell_type": "markdown",
   "metadata": {},
   "source": [
    "## Datos abiertos del SECOP II\n",
    "\n",
    "El SECOP II es la nueva versión del SECOP (Sistema Electrónico de Contratación Pública) que remplaza a la plataforma de publicidad (SECOP I) por una plataforma transaccional, permitiendo así que las Entidades Estatales (Compradores) puedan crear y adjudicar Procesos de Contratación, registrar y hacer seguimiento a la ejecución contractual. Los Proveedores también pueden tener su propia cuenta, encontrar oportunidades de negocio, hacer seguimiento a los Procesos y enviar observaciones y Ofertas.\n",
    "\n",
    "Esta plataforma inicio operaciones en 2015 y según las condiciones de conectividad las diferentes entidades estatales se van migrando a este nuevo sistema. "
   ]
  },
  {
   "cell_type": "markdown",
   "metadata": {},
   "source": [
    "La Agencia Nacional de Contratación Pública - Colombia Compra Eficiente, en línea con la política pública de datos abiertos de Colombia pone a disposición los Datos Abiertos del Sistema Electrónico para la Contratación Pública -**SECOP**- con el objetivo de facilitar el análisis académico, de mercado o de control por parte de cualquier interesado en el Sistema de Compra Pública. \n",
    "\n",
    "En este módulo exploraremos la base de contratación electrónica del SECOP II, es decir, todos los contratos que se han celebrado en esa plataforma transaccional. A diferencia de los procesos, el contrato ya esta adjudicado, puede estar en espera de fecha de firma pero hace referencia al resultado después del proceso. El identificador de la base de contratos es: `jbjy-vk9h`"
   ]
  },
  {
   "cell_type": "markdown",
   "metadata": {},
   "source": [
    "## Consulta de información:\n",
    "\n",
    "Recuerde que se omiten los contratos en las siguientes modalidades:\n",
    "    - 'Borrador'\n",
    "    - 'Enviado Proovedor'\n",
    "    - 'Cancelado'\n",
    "    - 'En aprobación'\n",
    "    \n",
    "Adicionalmente, para este ejercicio de exploración consultaremos los contratos del año 2021:\n",
    "    "
   ]
  },
  {
   "cell_type": "code",
   "execution_count": null,
   "metadata": {},
   "outputs": [],
   "source": [
    "import pandas as pd\n",
    "from sodapy import Socrata\n",
    "\n",
    "client = Socrata(\"www.datos.gov.co\",\n",
    "                 \"token_aqui\",## Cambie token_aqui por el token recien creado\n",
    "                 username=\"su_usuario\", ## Correo electrónico de ingreso a la plataforma de datos abiertos\n",
    "                 password=\"su_contraseña\")## Contraseña de ingreso a la plataforma de datos abiertos"
   ]
  },
  {
   "cell_type": "markdown",
   "metadata": {},
   "source": []
  },
  {
   "cell_type": "markdown",
   "metadata": {},
   "source": [
    "## Aprobación\n",
    "|||\n",
    "|--|--|\n",
    "|**Nombre**|Wilson Camilo Sanchez|\n",
    "|**Cargo**|Gestor T11|\n",
    "|**Área**|Subdirección EMAE|"
   ]
  },
  {
   "cell_type": "markdown",
   "metadata": {},
   "source": [
    "![version](images/version.png)"
   ]
  }
 ],
 "metadata": {
  "kernelspec": {
   "display_name": "Python 3 (ipykernel)",
   "language": "python",
   "name": "python3"
  },
  "language_info": {
   "codemirror_mode": {
    "name": "ipython",
    "version": 3
   },
   "file_extension": ".py",
   "mimetype": "text/x-python",
   "name": "python",
   "nbconvert_exporter": "python",
   "pygments_lexer": "ipython3",
   "version": "3.9.7"
  }
 },
 "nbformat": 4,
 "nbformat_minor": 4
}
