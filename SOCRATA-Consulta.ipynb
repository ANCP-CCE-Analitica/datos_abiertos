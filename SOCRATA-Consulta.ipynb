{
 "cells": [
  {
   "cell_type": "markdown",
   "metadata": {},
   "source": [
    "<div style=\"\n",
    "  padding: 30px;\n",
    "  text-align: center;\" class='row'>\n",
    "<div style=\"float:left;width: 15%;\" class='column'><a href=\"https://www.colombiacompra.gov.co\"><img alt=\"Logo Colombia Compra Eficiente\" id=\"logocce\" src=\"https://www.colombiacompra.gov.co/sites/cce_public/files/Images/logocce.png\" style=\"height: 45px;\"></a></div>\n",
    "    <div style=\"float:left;width: 70%;\" class='column'>\n",
    "        <h1>Carga de bases datos abiertos\n",
    "        </h1> \n",
    "    </div>\n",
    "<div style=\"float:left;width: 15%;\" class='column'><a href=\"https://www.dnp.gov.co/\" target=\"_blank\"><img class=\"float-right\" id=\"logodnp\" src=\"https://www.colombiacompra.gov.co/sites/cce_public/files/logo_dnp.jpg\" style=\"width: 200px;\"></a></div>\n",
    "</div>"
   ]
  },
  {
   "cell_type": "markdown",
   "metadata": {},
   "source": [
    "## 1. IDENTIFICACIÓN DEL INSUMO\n",
    "\n",
    "|||\n",
    "|:--|:--|\n",
    "|**Fecha**|Mayo 2022|\n",
    "|**Ciudad**|Bogotá D.C.|\n",
    "|**Esquema de presentación del insumo**|Cuaderno Jupyter|\n",
    "|**Título del insumo**| **Consideraciones para la consulta en datos abiertos**|\n",
    "|**Descripción y alcance**|Script para la consulta de bases utilizando datos abiertos.|\n",
    "|**Periodicidad del insumo**|único|\n",
    "|**Solicitante**|No aplica|\n",
    "|**Versión del insumo**|Final|"
   ]
  },
  {
   "cell_type": "markdown",
   "metadata": {},
   "source": [
    "## 2. DESTINO Y AUTORES DEL INFORME / INSUMO\n",
    "\n",
    "|||\n",
    "|:--|:--|\n",
    "|**Destinatario**|<table align='left'><tr><td>*Nombre:*</td> <td>Equipo analítica EMAE</td></tr> <tr><td>*Cargo:*</td> <td>NA</td></tr>  <tr><td>*Área:*</td> <td>Subdirección de estudios de Mercado y Abastecimiento Estratégico – EMAE</td></tr></table>|\n",
    "|**Autores**|<table><tr><td>*Nombre:*</td> <td>Carlos Isaac Zainea Maya</td></tr> <tr><td>*Cargo:*</td> <td>Contratista</td></tr>  <tr><td>*Área:*</td> <td>Subdirección de estudios de Mercado y Abastecimiento Estratégico – EMAE.</td></tr></table>|\n",
    "|**Aprobación**|<table><tr><td>*Nombre:*</td> <td>Catalina Pimienta</td></tr> <tr><td>*Cargo:*</td> <td>Subdirectora Estudios de Mercado y Abastecimiento Estratégico</td></tr>  <tr><td>*Área:*</td> <td>Subdirección de estudios de Mercado y Abastecimiento Estratégico – EMAE.</td></tr></table>|"
   ]
  },
  {
   "cell_type": "markdown",
   "metadata": {},
   "source": [
    "## Equipo GAEC\n",
    "\n",
    "<div style=\"position: relative; width: 100%; height: 0; padding-top: 56.2500%;\n",
    " padding-bottom: 48px; box-shadow: 0 2px 8px 0 rgba(63,69,81,0.16); margin-top: 1.6em; margin-bottom: 0.9em; overflow: hidden;\n",
    " border-radius: 8px; will-change: transform;\">\n",
    "  <iframe loading=\"lazy\" style=\"position: absolute; width: 100%; height: 100%; top: 0; left: 0; border: none; padding: 0;margin: 0;\"\n",
    "    src=\"https:&#x2F;&#x2F;www.canva.com&#x2F;design&#x2F;DAE_HO0G4I8&#x2F;view?embed\" allowfullscreen=\"allowfullscreen\" allow=\"fullscreen\">\n",
    "  </iframe>\n",
    "</div>\n",
    "<a href=\"https:&#x2F;&#x2F;www.canva.com&#x2F;design&#x2F;DAE_HO0G4I8&#x2F;view?utm_content=DAE_HO0G4I8&amp;utm_campaign=designshare&amp;utm_medium=embeds&amp;utm_source=link\" target=\"_blank\" rel=\"noopener\">GAEC 2022 Editable</a> de Kevin Fernando Gutierrez Vanegas"
   ]
  },
  {
   "cell_type": "markdown",
   "metadata": {},
   "source": [
    "## Datos abiertos\n",
    "\n",
    "Los datos abiertos son información pública dispuesta en formatos que permiten su uso y reutilización bajo licencia abierta y sin restricciones legales para su aprovechamiento. En Colombia, la [Ley 1712 de 2014 de la Ley de Transparencia y del Derecho de Acceso a la Información Pública Nacional](https://www.funcionpublica.gov.co/eva/gestornormativo/norma.php?i=56882), establece la obligatoriedad de las entidades públicas de aperturar datos y define los datos abiertos en el numeral sexto como \"todos aquellos datos primarios o sin procesar, que se encuentran en formatos estándar e interoperables que facilitan su acceso y reutilización, los cuales están bajo la custodia de las entidades públicas o privadas que cumplen con funciones públicas y que son puestos a disposición de cualquier ciudadano, de forma libre y sin restricciones, con el fin de que terceros puedan reutilizarlos y crear servicios derivados de los mismos\".\n",
    "\n",
    "*Tomado de: https://www.datos.gov.co*\n",
    "\n",
    "### Datos abiertos SECOP\n",
    "\n",
    "\n",
    "La Agencia Nacional de Contratación Pública - Colombia Compra Eficiente, en línea con la política pública de datos abiertos de Colombia pone a disposición los Datos Abiertos del Sistema Electrónico para la Contratación Pública -**SECOP**- con el objetivo de facilitar el análisis académico, de mercado o de control por parte de cualquier interesado en el Sistema de Compra Pública. \n",
    "\n",
    "![tresplataformas](images/tres_plataformas.png)\n",
    "\n",
    "\n",
    "El SECOP creado por la Ley 1150 de 2007 es el punto único de ingreso de información y de generación de reportes para las entidades estatales y para la ciudadanía en materia de compra y contratación pública. \n",
    "\n",
    "El SECOP está conformado por dos plataformas transaccionales que son la **Tienda Virtual del Estado Colombiano (acuerdos marco)** y el **SECOP II**, y una plataforma de simple publicidad que es el **SECOP I**. \n",
    "\n",
    "La información publicada corresponde a datos primarios, es decir, proviene de la [fuente de origen](https://www.colombiacompra.gov.co/sites/cce_public/files/cce_circulares/20130621circular1publicacionensecop.pdf). Es importante resaltar que de acuerdo con la Ley 1712 de 2014, artículo 3, del principio de calidad de la información, las entidades estatales son responsables de la oportunidad, objetividad y veracidad de la información que publican.\n",
    "\n",
    "**En datos abiertos encontramos, entre otras bases:**\n",
    "\n",
    "- [SECOP I - Procesos de Compra Pública](https://www.datos.gov.co/Gastos-Gubernamentales/SECOP-I-Procesos-de-Compra-P-blica/f789-7hwg): Procesos de Compra pública registrados en el SECOP I desde su implementación, contiene la información del proceso, fase de selección y la adjudicación. \n",
    "\n",
    "- [SECOP I](https://www.datos.gov.co/Gastos-Gubernamentales/SECOP-I/xvdy-vvsk): Información de los procesos de compra pública registrados en la plataforma SECOP I.\n",
    "\n",
    "- [SECOP II - Contratos Electrónicos](https://www.datos.gov.co/Gastos-Gubernamentales/SECOP-II-Contratos-Electr-nicos/jbjy-vk9h): Información de los contratos registrados en SECOP II desde su lanzamiento.\n",
    "\n",
    "- [SECOP II - Procesos de Contratación](https://www.datos.gov.co/Gastos-Gubernamentales/SECOP-II-Procesos-de-Contrataci-n/p6dx-8zbt): Registro de los procesos de compra, sean o no adjudicados, hechos en la plataforma SECOP II desde su lanzamiento.\n",
    "\n",
    "- [SECOP II - Proveedores Registrados](https://www.datos.gov.co/Gastos-Gubernamentales/SECOP-II-Proveedores-Registrados/qmzu-gj57): Información Básica de los proveedores registrados en SECOP II.\n",
    "\n",
    "- [Tienda Virtual del Estado Colombiano - Consolidado](https://www.datos.gov.co/Gastos-Gubernamentales/Tienda-Virtual-del-Estado-Colombiano-Consolidado/rgxm-mmea): Procesos de compra pública hechos a través de procesos de agregacion de la demanda en acuerdos marco, en la plataforma de Tienda Virtual del Estado Colombiano.\n",
    "\n",
    "- [SECOP Integrado](https://www.datos.gov.co/Gastos-Gubernamentales/SECOP-Integrado/rpmr-utcd): Información integrada de los procesos de compra pública que se han registrado en las plataformas SECOP I y II, que han finalizado con un contrato."
   ]
  },
  {
   "cell_type": "markdown",
   "metadata": {},
   "source": [
    "## Procesamiento de datos \n",
    "\n",
    "Cualquier persona interesada en los grupos de datos contenidos en el portal puede acceder a ellos sin necesidad de registro. Sin embargo, para un mejor desempeño de la API que usaremos en este apartado, el usuario debe crear un usuario siguiendo el procedimiento descrito a continuación:\n",
    "\n",
    "\n",
    "[![introda](images/introda.png)](https://www.datos.gov.co/)\n",
    "\n",
    "Hacer click en Registrarse:\n",
    "\n",
    "![reg](images/registro.png)\n",
    "\n",
    "Ingresar datos y crear cuenta.\n"
   ]
  },
  {
   "cell_type": "markdown",
   "metadata": {
    "tags": []
   },
   "source": [
    "### Socrata - API SODA (Socrata Open Data)\n",
    "\n",
    "La Socrata Open Data API (SODA) proporciona acceso programático a este conjunto de datos, incluyendo la capacidad de filtrar, consultar y agregar datos. Para instalarlo en Python basta la línea:\n",
    "\n",
    "```Python\n",
    "pip install sodapy\n",
    "```\n",
    "Adicionalmente, para activarla e ingresar a estos datos utilizando su usuario de datos abiertos debe generar un token de la siguiente forma:\n",
    "\n",
    "**Paso 1**\n",
    "\n",
    "Identifique una base de datos que quiera consultar, para el ejemplo [SECOP II - Contratos Electrónicos](https://www.datos.gov.co/Gastos-Gubernamentales/SECOP-II-Contratos-Electr-nicos/jbjy-vk9h), haga click en API y posteriormente en documentos de la API:\n",
    "\n",
    "![api](images/socrata_api.png)\n",
    "\n",
    "**Paso 2**\n",
    "\n",
    "El ultimo paso lo llevará a una nueva página web que contiene toda la documentación de la base consultada, baje a la sección [App Tokens](https://dev.socrata.com/foundry/www.datos.gov.co/jbjy-vk9h) y haga click en [Sign up for an app token].\n",
    "\n",
    "\n",
    "![api](images/apptoken.png)\n",
    "\n",
    "\n",
    "**Paso 3**\n",
    "\n",
    "Debe iniciar sesión con el usuario de datos abiertos recientemente creado, entrará a la configuración de desarrollador de datos abiertos, cree una nueva aplicación para obtener un token:\n",
    "\n",
    "![api](images/token.png)\n",
    "\n",
    "\n",
    "**Paso 4**\n",
    "\n",
    "Debe escoger un nombre, una descripción y algunas configuraciones muy sencillas. Finalmente tendrá el token que buscabamos:\n",
    "\n",
    "\n",
    "![api](images/token_2.png)\n",
    "\n",
    "\n",
    "**Paso 5**\n",
    "\n",
    "Finalmente, hagamos una prueba de acceso a la plataforma con el siguiente código"
   ]
  },
  {
   "cell_type": "code",
   "execution_count": 3,
   "metadata": {},
   "outputs": [],
   "source": [
    "#!pip install sodapy"
   ]
  },
  {
   "cell_type": "code",
   "execution_count": 4,
   "metadata": {},
   "outputs": [],
   "source": [
    "import pandas as pd\n",
    "from sodapy import Socrata\n",
    "\n",
    "client = Socrata(\"www.datos.gov.co\",\n",
    "                 \"token_aqui\",## Cambie token_aqui por el token recien creado\n",
    "                 username=\"su_usuario\", ## Correo electrónico de ingreso a la plataforma de datos abiertos\n",
    "                 password=\"su_contraseña\")## Contraseña de ingreso a la plataforma de datos abiertos"
   ]
  },
  {
   "cell_type": "markdown",
   "metadata": {},
   "source": [
    "Hagamos una prueba con una sencilla consulta en lenguaje SoQL, muy parecido a SQL (su documentación la encuentra aquí [https://dev.socrata.com/docs/queries/](https://dev.socrata.com/docs/queries/)). Es importante reconocer el identificador del dataset que estudiaremos, corresponde al identificador en la ultima parte de la dirección web donde se aloja dicha base:\n",
    "\n",
    "![identificador](images/identificador.png)\n"
   ]
  },
  {
   "cell_type": "code",
   "execution_count": 10,
   "metadata": {},
   "outputs": [
    {
     "data": {
      "text/html": [
       "<div>\n",
       "<style scoped>\n",
       "    .dataframe tbody tr th:only-of-type {\n",
       "        vertical-align: middle;\n",
       "    }\n",
       "\n",
       "    .dataframe tbody tr th {\n",
       "        vertical-align: top;\n",
       "    }\n",
       "\n",
       "    .dataframe thead th {\n",
       "        text-align: right;\n",
       "    }\n",
       "</style>\n",
       "<table border=\"1\" class=\"dataframe\">\n",
       "  <thead>\n",
       "    <tr style=\"text-align: right;\">\n",
       "      <th></th>\n",
       "      <th>count_id_contrato</th>\n",
       "    </tr>\n",
       "  </thead>\n",
       "  <tbody>\n",
       "    <tr>\n",
       "      <th>0</th>\n",
       "      <td>355595</td>\n",
       "    </tr>\n",
       "  </tbody>\n",
       "</table>\n",
       "</div>"
      ],
      "text/plain": [
       "  count_id_contrato\n",
       "0            355595"
      ]
     },
     "execution_count": 10,
     "metadata": {},
     "output_type": "execute_result"
    }
   ],
   "source": [
    "socrata_dataset_identifier = \"jbjy-vk9h\"\n",
    "\n",
    "Query = \"\"\"\n",
    "select \n",
    "    count(id_contrato)\n",
    "where\n",
    "    fecha_de_firma >= '2022-01-01'\n",
    "limit\n",
    "14000000\n",
    "\"\"\"\n",
    "\n",
    "contratos_2022 = client.get(socrata_dataset_identifier, content_type=\"json\", query=Query)\n",
    "\n",
    "secopII_2022_DF = pd.DataFrame(pd.DataFrame.from_dict(contratos_2022))\n",
    "secopII_2022_DF"
   ]
  },
  {
   "cell_type": "markdown",
   "metadata": {},
   "source": [
    "En este ejercicio es claro que usamos sentencias similares a las utilizadas en SQL, para conocer los nombres de las columnas y tener una documentación inicial de la base, siga explorando en los documentos de la API, en el caso de SECOP II contratos lo encontramos aquí: [SECOP II - Documentos API](https://dev.socrata.com/foundry/www.datos.gov.co/jbjy-vk9h). Busque la sección **FIELDS**:\n",
    "\n",
    "![Fields](images/fields.png)"
   ]
  },
  {
   "cell_type": "markdown",
   "metadata": {},
   "source": [
    "## Consideraciones para la consulta de datos\n",
    "\n",
    "Las base de datos del SECOP son bastante grandes, hay varias estrategias para poder descargarlas y consumirlas e incluso desde este equipo se recomienda utilizar computación distribuida (pyspark, dask, entre otros). Así mismo, para los ejercicios de actualización se recomienda generar estrategias que no tengan que descargar toda la base. En ese sentido dejamos aquí unos tips sobre la naturaleza de los datos:\n",
    "\n",
    "- En SECOP I (por ser plataforma de publicación) no hay una diferenciación de proceso de contratación con contrato. El identificador de dicho procesos es la columna uid y en algunos casos lo verá más de una vez porque enla plataforma de SECOP I se diferenciaba el mismo proceso por tener diferentes recursos presupuestales, en la tabla SECOP I - Procesos de Compra Pública, no hay esa distinción.\n",
    "\n",
    "- En SECOP II, los procesos y los contratos se tratan de manera diferente, el contrato es resultado del procesos de contratación. En ese aspecto, hay dos identificadores diferentes id_proceso (en la base de procesos) e  id_contrato (en la base de contratos). Se relacionan ambas bases por el (id_portafolio) de la base contratos con la id_procesos de la base de procesos.\n",
    "\n",
    "- Las fechas de las tablas en SECOP II, en general, tienen muchos valores nulos. Se recomienda establecer estrategias de imputación, aquí agradecemos iniciativas de los equipos.\n",
    "\n",
    "- id_contrato para SECOP II se asigna siguiendo un orden, uid en SECOP I inicia con los dos ultimos digitos del año de publicación."
   ]
  }
 ],
 "metadata": {
  "kernelspec": {
   "display_name": "Python 3 (ipykernel)",
   "language": "python",
   "name": "python3"
  },
  "language_info": {
   "codemirror_mode": {
    "name": "ipython",
    "version": 3
   },
   "file_extension": ".py",
   "mimetype": "text/x-python",
   "name": "python",
   "nbconvert_exporter": "python",
   "pygments_lexer": "ipython3",
   "version": "3.9.7"
  }
 },
 "nbformat": 4,
 "nbformat_minor": 4
}
