{
  "cells": [
    {
      "cell_type": "markdown",
      "metadata": {
        "id": "TtqcZK7zZPvD"
      },
      "source": [
        "<div style=\"\n",
        "  padding: 30px;\n",
        "  text-align: center;\" class='row'>\n",
        "<div style=\"float:left;width: 15%;\" class='column'><a href=\"https://www.colombiacompra.gov.co\"><img alt=\"Logo Colombia Compra Eficiente\" id=\"logocce\" src=\"https://www.colombiacompra.gov.co/sites/cce_public/files/Images/logocce.png\" style=\"height: 45px;\"></a></div>\n",
        "    <div style=\"float:left;width: 70%;\" class='column'>\n",
        "        <h1>Carga de bases datos abiertos\n",
        "        </h1> \n",
        "    </div>\n",
        "<div style=\"float:left;width: 15%;\" class='column'><a href=\"https://www.dnp.gov.co/\" target=\"_blank\"><img class=\"float-right\" id=\"logodnp\" src=\"https://www.colombiacompra.gov.co/sites/cce_public/files/logo_dnp.jpg\" style=\"width: 200px;\"></a></div>\n",
        "</div>"
      ]
    },
    {
      "cell_type": "markdown",
      "metadata": {
        "id": "0mj_FCc4ZPvH"
      },
      "source": [
        "## 1. IDENTIFICACIÓN DEL INSUMO\n",
        "\n",
        "|||\n",
        "|:--|:--|\n",
        "|**Fecha**|Mayo 2022|\n",
        "|**Ciudad**|Bogotá D.C.|\n",
        "|**Esquema de presentación del insumo**|Cuaderno Jupyter|\n",
        "|**Título del insumo**| **Consideraciones para la consulta en datos abiertos**|\n",
        "|**Descripción y alcance**|Script para la consulta de bases utilizando datos abiertos.|\n",
        "|**Periodicidad del insumo**|único|\n",
        "|**Solicitante**|No aplica|\n",
        "|**Versión del insumo**|Final|"
      ]
    },
    {
      "cell_type": "markdown",
      "metadata": {
        "id": "_xeAK3sRZPvH"
      },
      "source": [
        "## 2. DESTINO Y AUTORES DEL INFORME / INSUMO\n",
        "\n",
        "|||\n",
        "|:--|:--|\n",
        "|**Destinatario**|<table align='left'><tr><td>*Nombre:*</td> <td>Equipo analítica EMAE</td></tr> <tr><td>*Cargo:*</td> <td>NA</td></tr>  <tr><td>*Área:*</td> <td>Subdirección de estudios de Mercado y Abastecimiento Estratégico – EMAE</td></tr></table>|\n",
        "|**Autores**|<table><tr><td>*Nombre:*</td> <td>Carlos Isaac Zainea Maya</td></tr> <tr><td>*Cargo:*</td> <td>Contratista</td></tr>  <tr><td>*Área:*</td> <td>Subdirección de estudios de Mercado y Abastecimiento Estratégico – EMAE.</td></tr></table>|\n",
        "|**Aprobación**|<table><tr><td>*Nombre:*</td> <td>Catalina Pimienta</td></tr> <tr><td>*Cargo:*</td> <td>Subdirectora Estudios de Mercado y Abastecimiento Estratégico</td></tr>  <tr><td>*Área:*</td> <td>Subdirección de estudios de Mercado y Abastecimiento Estratégico – EMAE.</td></tr></table>|"
      ]
    },
    {
      "cell_type": "markdown",
      "metadata": {
        "id": "PNrjhqtlZPvI"
      },
      "source": [
        "## Equipo GAEC\n",
        "\n",
        "Una breve presentación del equipo y lo que hace:"
      ]
    },
    {
      "cell_type": "code",
      "execution_count": null,
      "metadata": {
        "id": "P0JoMwCoZPvI"
      },
      "outputs": [],
      "source": [
        "#from presentación import gaec\n",
        "#gaec()"
      ]
    },
    {
      "cell_type": "markdown",
      "metadata": {
        "id": "fWtO3w9aZPvJ"
      },
      "source": [
        "<a href=\"https://www.canva.com/design/DAFQPKx4lm8/Ig-l-7O7WP7-Il1RXtV8Gw/view?utm_content=DAFQPKx4lm8&utm_campaign=designshare&utm_medium=link&utm_source=publishpresent\"><img src=\"https://github.com/ANCP-CCE-Analitica/datos_abiertos/blob/main/images/pres_gaec.png?raw=1\"></a>"
      ]
    },
    {
      "cell_type": "markdown",
      "metadata": {
        "id": "GrsQ4_uQZPvJ"
      },
      "source": [
        "## Datos abiertos\n",
        "\n",
        "Los datos abiertos son información pública dispuesta en formatos que permiten su uso y reutilización bajo licencia abierta y sin restricciones legales para su aprovechamiento. En Colombia, la [Ley 1712 de 2014 de la Ley de Transparencia y del Derecho de Acceso a la Información Pública Nacional](https://www.funcionpublica.gov.co/eva/gestornormativo/norma.php?i=56882), establece la obligatoriedad de las entidades públicas de aperturar datos y define los datos abiertos en el numeral sexto como \"todos aquellos datos primarios o sin procesar, que se encuentran en formatos estándar e interoperables que facilitan su acceso y reutilización, los cuales están bajo la custodia de las entidades públicas o privadas que cumplen con funciones públicas y que son puestos a disposición de cualquier ciudadano, de forma libre y sin restricciones, con el fin de que terceros puedan reutilizarlos y crear servicios derivados de los mismos\".\n",
        "\n",
        "*Tomado de: https://www.datos.gov.co*\n",
        "\n",
        "### Datos abiertos SECOP\n",
        "\n",
        "\n",
        "La Agencia Nacional de Contratación Pública - Colombia Compra Eficiente, en línea con la política pública de datos abiertos de Colombia pone a disposición los Datos Abiertos del Sistema Electrónico para la Contratación Pública -**SECOP**- con el objetivo de facilitar el análisis académico, de mercado o de control por parte de cualquier interesado en el Sistema de Compra Pública. \n",
        "\n",
        "![tresplataformas](https://github.com/ANCP-CCE-Analitica/datos_abiertos/blob/main/images/tres_plataformas.png?raw=1)\n",
        "\n",
        "\n",
        "El SECOP creado por la Ley 1150 de 2007 es el punto único de ingreso de información y de generación de reportes para las entidades estatales y para la ciudadanía en materia de compra y contratación pública. \n",
        "\n",
        "El SECOP está conformado por dos plataformas transaccionales que son la **Tienda Virtual del Estado Colombiano (acuerdos marco)** y el **SECOP II**, y una plataforma de simple publicidad que es el **SECOP I**. \n",
        "\n",
        "La información publicada corresponde a datos primarios, es decir, proviene de la [fuente de origen](https://www.colombiacompra.gov.co/sites/cce_public/files/cce_circulares/20130621circular1publicacionensecop.pdf). Es importante resaltar que de acuerdo con la Ley 1712 de 2014, artículo 3, del principio de calidad de la información, las entidades estatales son responsables de la oportunidad, objetividad y veracidad de la información que publican.\n",
        "\n",
        "**En datos abiertos encontramos, entre otras bases:**\n",
        "\n",
        "- [SECOP I - Procesos de Compra Pública](https://www.datos.gov.co/Gastos-Gubernamentales/SECOP-I-Procesos-de-Compra-P-blica/f789-7hwg): Procesos de Compra pública registrados en el SECOP I desde su implementación, contiene la información del proceso, fase de selección y la adjudicación. \n",
        "\n",
        "- [SECOP I](https://www.datos.gov.co/Gastos-Gubernamentales/SECOP-I/xvdy-vvsk): Información de los procesos de compra pública registrados en la plataforma SECOP I.\n",
        "\n",
        "- [SECOP II - Contratos Electrónicos](https://www.datos.gov.co/Gastos-Gubernamentales/SECOP-II-Contratos-Electr-nicos/jbjy-vk9h): Información de los contratos registrados en SECOP II desde su lanzamiento.\n",
        "\n",
        "- [SECOP II - Procesos de Contratación](https://www.datos.gov.co/Gastos-Gubernamentales/SECOP-II-Procesos-de-Contrataci-n/p6dx-8zbt): Registro de los procesos de compra, sean o no adjudicados, hechos en la plataforma SECOP II desde su lanzamiento.\n",
        "\n",
        "- [SECOP II - Proveedores Registrados](https://www.datos.gov.co/Gastos-Gubernamentales/SECOP-II-Proveedores-Registrados/qmzu-gj57): Información Básica de los proveedores registrados en SECOP II.\n",
        "\n",
        "- [Tienda Virtual del Estado Colombiano - Consolidado](https://www.datos.gov.co/Gastos-Gubernamentales/Tienda-Virtual-del-Estado-Colombiano-Consolidado/rgxm-mmea): Procesos de compra pública hechos a través de procesos de agregacion de la demanda en acuerdos marco, en la plataforma de Tienda Virtual del Estado Colombiano.\n",
        "\n",
        "- [SECOP Integrado](https://www.datos.gov.co/Gastos-Gubernamentales/SECOP-Integrado/rpmr-utcd): Información integrada de los procesos de compra pública que se han registrado en las plataformas SECOP I y II, que han finalizado con un contrato."
      ]
    },
    {
      "cell_type": "markdown",
      "metadata": {
        "id": "MJZz-ujgZPvK"
      },
      "source": [
        "## Procesamiento de datos \n",
        "\n",
        "Cualquier persona interesada en los grupos de datos contenidos en el portal puede acceder a ellos sin necesidad de registro. Sin embargo, para un mejor desempeño de la API que usaremos en este apartado, el usuario debe crear un usuario siguiendo el procedimiento descrito a continuación:\n",
        "\n",
        "\n",
        "[![introda](https://github.com/ANCP-CCE-Analitica/datos_abiertos/blob/main/images/introda.png?raw=1)](https://www.datos.gov.co/)\n",
        "\n",
        "Hacer click en Registrarse:\n",
        "\n",
        "![reg](https://github.com/ANCP-CCE-Analitica/datos_abiertos/blob/main/images/registro.png?raw=1)\n",
        "\n",
        "Ingresar datos y crear cuenta.\n"
      ]
    },
    {
      "cell_type": "markdown",
      "metadata": {
        "tags": [],
        "id": "ugrtuScVZPvL"
      },
      "source": [
        "### Socrata - API SODA (Socrata Open Data)\n",
        "\n",
        "La Socrata Open Data API (SODA) proporciona acceso programático a este conjunto de datos, incluyendo la capacidad de filtrar, consultar y agregar datos. Para instalarlo en Python basta la línea:\n",
        "\n",
        "```Python\n",
        "pip install sodapy\n",
        "```\n",
        "Adicionalmente, para activarla e ingresar a estos datos utilizando su usuario de datos abiertos debe generar un token de la siguiente forma:\n",
        "\n",
        "**Paso 1**\n",
        "\n",
        "Identifique una base de datos que quiera consultar, para el ejemplo [SECOP II - Contratos Electrónicos](https://www.datos.gov.co/Gastos-Gubernamentales/SECOP-II-Contratos-Electr-nicos/jbjy-vk9h), haga click en API y posteriormente en documentos de la API:\n",
        "\n",
        "![api](https://github.com/ANCP-CCE-Analitica/datos_abiertos/blob/main/images/socrata_api.png?raw=1)\n",
        "\n",
        "**Paso 2**\n",
        "\n",
        "El ultimo paso lo llevará a una nueva página web que contiene toda la documentación de la base consultada, baje a la sección [App Tokens](https://dev.socrata.com/foundry/www.datos.gov.co/jbjy-vk9h) y haga click en [Sign up for an app token].\n",
        "\n",
        "\n",
        "![api](https://github.com/ANCP-CCE-Analitica/datos_abiertos/blob/main/images/apptoken.png?raw=1)\n",
        "\n",
        "\n",
        "**Paso 3**\n",
        "\n",
        "Debe iniciar sesión con el usuario de datos abiertos recientemente creado, entrará a la configuración de desarrollador de datos abiertos, cree una nueva aplicación para obtener un token:\n",
        "\n",
        "![api](https://github.com/ANCP-CCE-Analitica/datos_abiertos/blob/main/images/token.png?raw=1)\n",
        "\n",
        "\n",
        "**Paso 4**\n",
        "\n",
        "Debe escoger un nombre, una descripción y algunas configuraciones muy sencillas. Finalmente tendrá el token que buscabamos:\n",
        "\n",
        "\n",
        "![api](https://github.com/ANCP-CCE-Analitica/datos_abiertos/blob/main/images/token_2.png?raw=1)\n",
        "\n",
        "\n",
        "**Paso 5**\n",
        "\n",
        "Finalmente, hagamos una prueba de acceso a la plataforma con el siguiente código"
      ]
    },
    {
      "cell_type": "code",
      "execution_count": null,
      "metadata": {
        "id": "6LZvwV9sZPvL"
      },
      "outputs": [],
      "source": [
        "#!pip install sodapy"
      ]
    },
    {
      "cell_type": "code",
      "execution_count": null,
      "metadata": {
        "id": "hTClCbNWZPvM"
      },
      "outputs": [],
      "source": [
        "import pandas as pd\n",
        "from sodapy import Socrata\n",
        "\n",
        "client = Socrata(\"www.datos.gov.co\",\n",
        "                 \"token_aqui\",## Cambie token_aqui por el token recien creado\n",
        "                 username=\"su_usuario\", ## Correo electrónico de ingreso a la plataforma de datos abiertos\n",
        "                 password=\"su_contraseña\")## Contraseña de ingreso a la plataforma de datos abiertos"
      ]
    },
    {
      "cell_type": "markdown",
      "metadata": {
        "id": "v4d-M7akZPvM"
      },
      "source": [
        "Hagamos una prueba con una sencilla consulta en lenguaje SoQL, muy parecido a SQL (su documentación la encuentra aquí [https://dev.socrata.com/docs/queries/](https://dev.socrata.com/docs/queries/)). Es importante reconocer el identificador del dataset que estudiaremos, corresponde al identificador en la ultima parte de la dirección web donde se aloja dicha base:\n",
        "\n",
        "![identificador](https://github.com/ANCP-CCE-Analitica/datos_abiertos/blob/main/images/identificador.png?raw=1)\n"
      ]
    },
    {
      "cell_type": "code",
      "execution_count": null,
      "metadata": {
        "id": "DdrEEnM7ZPvM"
      },
      "outputs": [],
      "source": [
        "socrata_dataset_identifier = \"jbjy-vk9h\"\n",
        "\n",
        "Query = \"\"\"\n",
        "select \n",
        "    id_contrato, nombre_entidad, departamento, descripcion_del_proceso, valor_del_contrato\n",
        "where\n",
        "    fecha_de_firma >= '2022-06-01'\n",
        "limit\n",
        "1000000\n",
        "\"\"\"\n",
        "\n",
        "contratos_2022 = client.get(socrata_dataset_identifier, content_type=\"json\", query=Query)\n",
        "\n",
        "secopII_2022_DF = pd.DataFrame(pd.DataFrame.from_dict(contratos_2022))\n",
        "secopII_2022_DF"
      ]
    },
    {
      "cell_type": "code",
      "source": [
        "Query = \"\"\"\n",
        "select \n",
        "    departamento, count(id_contrato) as cantidad_contratos, sum(valor_del_contrato) as valor_dpto\n",
        "where\n",
        "    fecha_de_firma >= '2022-06-01'\n",
        "group by\n",
        "  departamento\n",
        "order by\n",
        "  valor_dpto desc\n",
        "\n",
        "limit\n",
        "1000000\n",
        "\"\"\"\n",
        "\n",
        "contratos_2022 = client.get(socrata_dataset_identifier, content_type=\"json\", query=Query)\n",
        "\n",
        "secopII_2022_DF_DEPTOS = pd.DataFrame(pd.DataFrame.from_dict(contratos_2022))\n",
        "secopII_2022_DF_DEPTOS"
      ],
      "metadata": {
        "id": "9CV9pnyS3NRl"
      },
      "execution_count": null,
      "outputs": []
    },
    {
      "cell_type": "code",
      "source": [
        "secopII_2022_DF_DEPTOS.dtypes"
      ],
      "metadata": {
        "id": "LsJvDbDY4VyT"
      },
      "execution_count": null,
      "outputs": []
    },
    {
      "cell_type": "code",
      "source": [
        "secopII_2022_DF_DEPTOS['valor_dpto']=secopII_2022_DF_DEPTOS['valor_dpto'].astype(int)"
      ],
      "metadata": {
        "id": "IUqNCCDk2AIp"
      },
      "execution_count": null,
      "outputs": []
    },
    {
      "cell_type": "code",
      "source": [
        "import matplotlib.pyplot as plt\n",
        "\n",
        "plt.bar(x=secopII_2022_DF_DEPTOS['departamento'],height=secopII_2022_DF_DEPTOS['valor_dpto'].values)\n",
        "plt.grid()\n",
        "plt.xticks(rotation=90)\n",
        "plt.show()"
      ],
      "metadata": {
        "id": "q4k0X5Y64VGQ"
      },
      "execution_count": null,
      "outputs": []
    },
    {
      "cell_type": "markdown",
      "metadata": {
        "id": "GP7pmJh-ZPvN"
      },
      "source": [
        "En este ejercicio es claro que usamos sentencias similares a las utilizadas en SQL, para conocer los nombres de las columnas y tener una documentación inicial de la base, siga explorando en los documentos de la API, en el caso de SECOP II contratos lo encontramos aquí: [SECOP II - Documentos API](https://dev.socrata.com/foundry/www.datos.gov.co/jbjy-vk9h). Busque la sección **FIELDS**:\n",
        "\n",
        "![Fields](https://github.com/ANCP-CCE-Analitica/datos_abiertos/blob/main/images/fields.png?raw=1)"
      ]
    },
    {
      "cell_type": "markdown",
      "metadata": {
        "id": "hsbS2nLeZPvN"
      },
      "source": [
        "## Consideraciones para la consulta de datos\n",
        "\n",
        "Las base de datos del SECOP son bastante grandes, hay varias estrategias para poder descargarlas y consumirlas e incluso desde este equipo se recomienda utilizar computación distribuida (pyspark, dask, entre otros). Así mismo, para los ejercicios de actualización se recomienda generar estrategias que no tengan que descargar toda la base. En ese sentido dejamos aquí unos tips sobre la naturaleza de los datos:\n",
        "\n",
        "- En SECOP I (por ser plataforma de publicación) no hay una diferenciación de proceso de contratación con contrato. El identificador de dicho procesos es la columna uid y en algunos casos lo verá más de una vez porque enla plataforma de SECOP I se diferenciaba el mismo proceso por tener diferentes recursos presupuestales, en la tabla SECOP I - Procesos de Compra Pública, no hay esa distinción.\n",
        "\n",
        "- En SECOP II, los procesos y los contratos se tratan de manera diferente, el contrato es resultado del procesos de contratación. En ese aspecto, hay dos identificadores diferentes id_proceso (en la base de procesos) e  id_contrato (en la base de contratos). Se relacionan ambas bases por el (id_portafolio) de la base contratos con la id_procesos de la base de procesos.\n",
        "\n",
        "- Para los estudios no se tienen en cuenta los contratos en las siguientes modalidades:\n",
        "    - 'Borrador'\n",
        "    - 'Enviado Proovedor'\n",
        "    - 'Cancelado'\n",
        "    - 'En aprobación'\n",
        "    \n",
        "- Las fechas de las tablas en SECOP II, en general, tienen muchos valores nulos, en gramn medida esto depende del filtro anterior, no obstante ``Fecha Firma``  y  ``Fecha Inicio`` son los campos que menos problemas en este sentido tienen. Se recomienda establecer estrategias de lectura de esos datos, aquí agradecemos iniciativas de los equipos.\n",
        "\n",
        "- id_contrato para SECOP II se asigna siguiendo un orden, uid en SECOP I inicia con los dos ultimos digitos del año de publicación, luego el número de constancia y finalmente el número de contrato.\n",
        "\n",
        "- No hay bases maestro de entidades y proveedores, adicionalmente, las entidades estatales pueden tener un mismo NIT para diferentes dependencias (Alcaldía de Bogotá, ICBF, entre muchos otros). Se recomienda aplicar métodos de limpieza en estas variables.\n",
        "\n",
        "- En Secop I no hay una codificación estándar de las locaciones. Ayudarse con la base de datos [DIVIPOLA  ](https://geoportal.dane.gov.co/geovisores/territorio/consulta-divipola-division-politico-administrativa-de-colombia/)."
      ]
    },
    {
      "cell_type": "markdown",
      "metadata": {
        "id": "ifHeBMWYZPvN"
      },
      "source": [
        "## Ejemplos prácticos\n",
        "\n",
        "Hacemos una serie de consultas interesantes para usar este código:\n"
      ]
    },
    {
      "cell_type": "markdown",
      "metadata": {
        "id": "C0jcaNlKZPvN"
      },
      "source": [
        "### Consulta de fechas\n",
        "\n",
        "Contratos con fecha de firma entre 2022-03-01 y 2022-03-31."
      ]
    },
    {
      "cell_type": "code",
      "execution_count": null,
      "metadata": {
        "id": "cmLgHa9RZPvO"
      },
      "outputs": [],
      "source": [
        "socrata_dataset_identifier = \"jbjy-vk9h\"\n",
        "\n",
        "Query = \"\"\"\n",
        "select \n",
        "    id_contrato,\n",
        "    descripcion_del_proceso ,\n",
        "    codigo_de_categoria_principal \n",
        "where\n",
        "    fecha_de_firma >= '2022-03-01' And\n",
        "    fecha_de_firma <= '2022-04-01'\n",
        "limit\n",
        "14000000\n",
        "\"\"\"\n",
        "\n",
        "contratos_2022 = client.get(socrata_dataset_identifier, content_type=\"json\", query=Query)\n",
        "\n",
        "secopII_2022_DF = pd.DataFrame(pd.DataFrame.from_dict(contratos_2022))\n",
        "secopII_2022_DF"
      ]
    },
    {
      "cell_type": "markdown",
      "metadata": {
        "id": "aaA6xjoYZPvO"
      },
      "source": [
        "Sin llamar a todas las consultas:"
      ]
    },
    {
      "cell_type": "code",
      "execution_count": null,
      "metadata": {
        "id": "J3MPGxyvZPvO"
      },
      "outputs": [],
      "source": [
        "socrata_dataset_identifier = \"jbjy-vk9h\"\n",
        "\n",
        "Query = \"\"\"\n",
        "select \n",
        "    nombre_entidad,nit_entidad,departamento,ciudad,localizaci_n,orden,sector,rama,entidad_centralizada,\n",
        "    proceso_de_compra,id_contrato,referencia_del_contrato,estado_contrato,codigo_de_categoria_principal,descripcion_del_proceso,\n",
        "    tipo_de_contrato, modalidad_de_contratacion,justificacion_modalidad_de, fecha_de_firma,tipodocproveedor,documento_proveedor,\n",
        "    proveedor_adjudicado,es_grupo,es_pyme,valor_del_contrato,destino_gasto,origen_de_los_recursos,nombre_representante_legal,nacionalidad_representante_legal,\n",
        "    tipo_de_identificaci_n_representante_legal,identificaci_n_representante_legal,g_nero_representante_legal,ultima_actualizacion,codigo_entidad,codigo_proveedor\n",
        "where\n",
        "    fecha_de_firma >= '2022-03-01' And\n",
        "    fecha_de_firma <= '2022-04-01'\n",
        "limit\n",
        "14000000\n",
        "\"\"\"\n",
        "\n",
        "contratos_2022 = client.get(socrata_dataset_identifier, content_type=\"json\", query=Query)\n",
        "\n",
        "secopII_2022_DF_ej_2 = pd.DataFrame(pd.DataFrame.from_dict(contratos_2022))\n",
        "secopII_2022_DF_ej_2"
      ]
    },
    {
      "cell_type": "markdown",
      "metadata": {
        "id": "QklejwZRZPvO"
      },
      "source": [
        "### Consulta de textos\n",
        "\n",
        "Procesos que en descripción del procesos mencione SERVICIOS:"
      ]
    },
    {
      "cell_type": "code",
      "execution_count": null,
      "metadata": {
        "id": "Oa22TttKZPvP"
      },
      "outputs": [],
      "source": [
        "Query = \"\"\"\n",
        "select \n",
        "    nombre_entidad,nit_entidad,departamento,ciudad,localizaci_n,orden,sector,rama,entidad_centralizada,\n",
        "    proceso_de_compra,id_contrato,referencia_del_contrato,estado_contrato,codigo_de_categoria_principal,descripcion_del_proceso,\n",
        "    tipo_de_contrato, modalidad_de_contratacion,justificacion_modalidad_de, fecha_de_firma,tipodocproveedor,documento_proveedor,\n",
        "    proveedor_adjudicado,es_grupo,es_pyme,valor_del_contrato,destino_gasto,origen_de_los_recursos,nombre_representante_legal,nacionalidad_representante_legal,\n",
        "    tipo_de_identificaci_n_representante_legal,identificaci_n_representante_legal,g_nero_representante_legal,ultima_actualizacion,codigo_entidad,codigo_proveedor\n",
        "where\n",
        "    fecha_de_firma >= '2022-03-01' and\n",
        "    fecha_de_firma <= '2022-04-01' and\n",
        "    descripcion_del_proceso like '%SERVICIOS%'\n",
        "limit\n",
        "14000000\n",
        "\"\"\"\n",
        "\n",
        "contratos_2022 = client.get(socrata_dataset_identifier, content_type=\"json\", query=Query)\n",
        "\n",
        "secopII_2022_DF_ej_3 = pd.DataFrame(pd.DataFrame.from_dict(contratos_2022))\n",
        "secopII_2022_DF_ej_3"
      ]
    },
    {
      "cell_type": "code",
      "execution_count": null,
      "metadata": {
        "id": "GbBVQ8boZPvP"
      },
      "outputs": [],
      "source": [
        "secopII_2022_DF_ej_3.descripcion_del_proceso"
      ]
    },
    {
      "cell_type": "markdown",
      "metadata": {
        "id": "h6xoSHPfZPvP"
      },
      "source": [
        "### Consulta de valores\n",
        "\n",
        "Contratos de más de $100.000.000"
      ]
    },
    {
      "cell_type": "code",
      "execution_count": null,
      "metadata": {
        "id": "UTeKHRmoZPvP"
      },
      "outputs": [],
      "source": [
        "Query = \"\"\"\n",
        "select \n",
        "    nombre_entidad,nit_entidad,departamento,ciudad,localizaci_n,orden,sector,rama,entidad_centralizada,\n",
        "    proceso_de_compra,id_contrato,referencia_del_contrato,estado_contrato,codigo_de_categoria_principal,descripcion_del_proceso,\n",
        "    tipo_de_contrato, modalidad_de_contratacion,justificacion_modalidad_de, fecha_de_firma,tipodocproveedor,documento_proveedor,\n",
        "    proveedor_adjudicado,es_grupo,es_pyme,valor_del_contrato,destino_gasto,origen_de_los_recursos,nombre_representante_legal,nacionalidad_representante_legal,\n",
        "    tipo_de_identificaci_n_representante_legal,identificaci_n_representante_legal,g_nero_representante_legal,ultima_actualizacion,codigo_entidad,codigo_proveedor\n",
        "where\n",
        "    fecha_de_firma >= '2022-03-01' and\n",
        "    fecha_de_firma <= '2022-04-01' and\n",
        "    valor_del_contrato > 1000000000\n",
        "    \n",
        "limit\n",
        "14000000\n",
        "\"\"\"\n",
        "\n",
        "contratos_2022 = client.get(socrata_dataset_identifier, content_type=\"json\", query=Query)\n",
        "\n",
        "secopII_2022_DF_ej_4 = pd.DataFrame(pd.DataFrame.from_dict(contratos_2022))\n",
        "secopII_2022_DF_ej_4"
      ]
    },
    {
      "cell_type": "code",
      "source": [
        "secopII_2022_DF_ej_4"
      ],
      "metadata": {
        "id": "TmJpDYFI1ZO5"
      },
      "execution_count": null,
      "outputs": []
    },
    {
      "cell_type": "markdown",
      "metadata": {
        "id": "USMdf__eZPvP"
      },
      "source": [
        "## Aprobación\n",
        "|||\n",
        "|--|--|\n",
        "|**Nombre**|Wilson Camilo Sanchez|\n",
        "|**Cargo**|Gestor T11|\n",
        "|**Área**|Subdirección EMAE|"
      ]
    },
    {
      "cell_type": "markdown",
      "metadata": {
        "id": "eSyjHgSMZPvP"
      },
      "source": [
        "![version](https://github.com/ANCP-CCE-Analitica/datos_abiertos/blob/main/images/version.png?raw=1)"
      ]
    }
  ],
  "metadata": {
    "kernelspec": {
      "display_name": "Python 3 (ipykernel)",
      "language": "python",
      "name": "python3"
    },
    "language_info": {
      "codemirror_mode": {
        "name": "ipython",
        "version": 3
      },
      "file_extension": ".py",
      "mimetype": "text/x-python",
      "name": "python",
      "nbconvert_exporter": "python",
      "pygments_lexer": "ipython3",
      "version": "3.9.12"
    },
    "colab": {
      "provenance": []
    }
  },
  "nbformat": 4,
  "nbformat_minor": 0
}
